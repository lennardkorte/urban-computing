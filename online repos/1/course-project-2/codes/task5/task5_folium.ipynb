{
 "cells": [
  {
   "cell_type": "markdown",
   "metadata": {},
   "source": [
    "# Task 5 (Route Analysis) Visualization\n"
   ]
  },
  {
   "cell_type": "code",
   "execution_count": 1,
   "metadata": {},
   "outputs": [],
   "source": [
    "import os, sys, io\n",
    "import folium\n",
    "from IPython.display import display \n",
    "import pandas as pd\n",
    "\n",
    "def load_src(name, fpath):\n",
    "    import os, imp\n",
    "    p = fpath if os.path.isabs(fpath) \\\n",
    "        else os.path.join(os.path.dirname(os.path.abspath('')), fpath)\n",
    "    return imp.load_source(name, p)\n",
    "load_src(\"utils\", \"utils/__init__.py\")\n",
    "import utils"
   ]
  },
  {
   "cell_type": "code",
   "execution_count": 2,
   "metadata": {},
   "outputs": [],
   "source": [
    "data_path = '../../data'\n",
    "results_path = '../../results/task5'\n",
    "utils.create_dir(results_path)\n",
    "colors_list = utils.get_color_list()['bog']\n",
    "ftiles = utils.get_map_tiles()"
   ]
  },
  {
   "cell_type": "code",
   "execution_count": 3,
   "metadata": {},
   "outputs": [],
   "source": [
    "PLOT_LINES = True\n",
    "PLOT_POINTS = False\n",
    "SAVE_IMAGES = True\n",
    "SAVE_INDIVIDUAL = True"
   ]
  },
  {
   "cell_type": "code",
   "execution_count": 4,
   "metadata": {},
   "outputs": [],
   "source": [
    "often10 = pd.read_csv(os.path.join(data_path, 'often10.csv'), sep = \",\", usecols=['mgeom'])\n",
    "time10 = pd.read_csv(os.path.join(data_path, 'time10.csv'), sep = \",\", usecols=['mgeom'])"
   ]
  },
  {
   "cell_type": "code",
   "execution_count": 5,
   "metadata": {},
   "outputs": [
    {
     "name": "stdout",
     "output_type": "stream",
     "text": [
      "Total number of LineString: 10\n"
     ]
    },
    {
     "data": {
      "text/html": [
       "<div>\n",
       "<style scoped>\n",
       "    .dataframe tbody tr th:only-of-type {\n",
       "        vertical-align: middle;\n",
       "    }\n",
       "\n",
       "    .dataframe tbody tr th {\n",
       "        vertical-align: top;\n",
       "    }\n",
       "\n",
       "    .dataframe thead th {\n",
       "        text-align: right;\n",
       "    }\n",
       "</style>\n",
       "<table border=\"1\" class=\"dataframe\">\n",
       "  <thead>\n",
       "    <tr style=\"text-align: right;\">\n",
       "      <th></th>\n",
       "      <th>geometry</th>\n",
       "    </tr>\n",
       "  </thead>\n",
       "  <tbody>\n",
       "    <tr>\n",
       "      <th>0</th>\n",
       "      <td>LINESTRING (-8.66802 41.22993, -8.66795 41.230...</td>\n",
       "    </tr>\n",
       "    <tr>\n",
       "      <th>1</th>\n",
       "      <td>LINESTRING (-8.66286 41.22398, -8.66392 41.225...</td>\n",
       "    </tr>\n",
       "    <tr>\n",
       "      <th>2</th>\n",
       "      <td>LINESTRING (-8.66497 41.22619, -8.66515 41.226...</td>\n",
       "    </tr>\n",
       "    <tr>\n",
       "      <th>3</th>\n",
       "      <td>LINESTRING (-8.66601 41.22718, -8.66670 41.227...</td>\n",
       "    </tr>\n",
       "    <tr>\n",
       "      <th>4</th>\n",
       "      <td>LINESTRING (-8.66780 41.23637, -8.66792 41.237...</td>\n",
       "    </tr>\n",
       "  </tbody>\n",
       "</table>\n",
       "</div>"
      ],
      "text/plain": [
       "                                            geometry\n",
       "0  LINESTRING (-8.66802 41.22993, -8.66795 41.230...\n",
       "1  LINESTRING (-8.66286 41.22398, -8.66392 41.225...\n",
       "2  LINESTRING (-8.66497 41.22619, -8.66515 41.226...\n",
       "3  LINESTRING (-8.66601 41.22718, -8.66670 41.227...\n",
       "4  LINESTRING (-8.66780 41.23637, -8.66792 41.237..."
      ]
     },
     "metadata": {},
     "output_type": "display_data"
    },
    {
     "data": {
      "text/plain": [
       "<AxesSubplot:>"
      ]
     },
     "execution_count": 5,
     "metadata": {},
     "output_type": "execute_result"
    },
    {
     "data": {
      "image/png": "[encoded data removed]",
      "text/plain": [
       "<Figure size 432x288 with 1 Axes>"
      ]
     },
     "metadata": {
      "needs_background": "light"
     },
     "output_type": "display_data"
    }
   ],
   "source": [
    "often10_gdf = utils.get_geom_gdf(often10)\n",
    "display(often10_gdf.head())\n",
    "often10_gdf[:5].plot()"
   ]
  },
  {
   "cell_type": "code",
   "execution_count": 6,
   "metadata": {},
   "outputs": [
    {
     "name": "stdout",
     "output_type": "stream",
     "text": [
      "Total number of LineString: 10\n"
     ]
    },
    {
     "data": {
      "text/html": [
       "<div>\n",
       "<style scoped>\n",
       "    .dataframe tbody tr th:only-of-type {\n",
       "        vertical-align: middle;\n",
       "    }\n",
       "\n",
       "    .dataframe tbody tr th {\n",
       "        vertical-align: top;\n",
       "    }\n",
       "\n",
       "    .dataframe thead th {\n",
       "        text-align: right;\n",
       "    }\n",
       "</style>\n",
       "<table border=\"1\" class=\"dataframe\">\n",
       "  <thead>\n",
       "    <tr style=\"text-align: right;\">\n",
       "      <th></th>\n",
       "      <th>geometry</th>\n",
       "    </tr>\n",
       "  </thead>\n",
       "  <tbody>\n",
       "    <tr>\n",
       "      <th>0</th>\n",
       "      <td>LINESTRING (-8.56562 41.23496, -8.56584 41.234...</td>\n",
       "    </tr>\n",
       "    <tr>\n",
       "      <th>1</th>\n",
       "      <td>LINESTRING (-8.54876 41.20124, -8.54806 41.201...</td>\n",
       "    </tr>\n",
       "    <tr>\n",
       "      <th>2</th>\n",
       "      <td>LINESTRING (-8.57815 41.13535, -8.57804 41.135...</td>\n",
       "    </tr>\n",
       "    <tr>\n",
       "      <th>3</th>\n",
       "      <td>LINESTRING (-8.62242 41.16411, -8.62251 41.163...</td>\n",
       "    </tr>\n",
       "    <tr>\n",
       "      <th>4</th>\n",
       "      <td>LINESTRING (-8.63855 41.14989, -8.63786 41.150...</td>\n",
       "    </tr>\n",
       "  </tbody>\n",
       "</table>\n",
       "</div>"
      ],
      "text/plain": [
       "                                            geometry\n",
       "0  LINESTRING (-8.56562 41.23496, -8.56584 41.234...\n",
       "1  LINESTRING (-8.54876 41.20124, -8.54806 41.201...\n",
       "2  LINESTRING (-8.57815 41.13535, -8.57804 41.135...\n",
       "3  LINESTRING (-8.62242 41.16411, -8.62251 41.163...\n",
       "4  LINESTRING (-8.63855 41.14989, -8.63786 41.150..."
      ]
     },
     "metadata": {},
     "output_type": "display_data"
    },
    {
     "data": {
      "text/plain": [
       "<AxesSubplot:>"
      ]
     },
     "execution_count": 6,
     "metadata": {},
     "output_type": "execute_result"
    },
    {
     "data": {
      "image/png": "[encoded data removed]",
      "text/plain": [
       "<Figure size 432x288 with 1 Axes>"
      ]
     },
     "metadata": {
      "needs_background": "light"
     },
     "output_type": "display_data"
    }
   ],
   "source": [
    "time10_gdf = utils.get_geom_gdf(time10)\n",
    "display(time10_gdf.head())\n",
    "time10_gdf[:5].plot()"
   ]
  },
  {
   "cell_type": "markdown",
   "metadata": {},
   "source": [
    "## Visualize 5 routes that are traversed the most often"
   ]
  },
  {
   "cell_type": "code",
   "execution_count": 7,
   "metadata": {},
   "outputs": [
    {
     "data": {
      "text/plain": [
       "0    [(41.2299263, -8.6680157), (41.2301508, -8.667...\n",
       "1    [(41.2239767, -8.6628618), (41.2250912, -8.663...\n",
       "2    [(41.2261891, -8.664969), (41.2263972, -8.6651...\n",
       "3    [(41.2271823, -8.6660102), (41.2276005, -8.666...\n",
       "4    [(41.2363728, -8.6678023), (41.2370596, -8.667...\n",
       "5    [(41.2048355, -8.6514432), (41.2049713, -8.651...\n",
       "6    [(41.2098132, -8.651801), (41.2106614, -8.6521...\n",
       "7    [(41.2121418, -8.6528284), (41.2129284, -8.653...\n",
       "8    [(41.2214835, -8.6604663), (41.2220617, -8.661...\n",
       "9    [(41.2220617, -8.6610392), (41.2224028, -8.661...\n",
       "dtype: object"
      ]
     },
     "execution_count": 7,
     "metadata": {},
     "output_type": "execute_result"
    }
   ],
   "source": [
    "often10_coords = utils.get_lineString_coords(often10_gdf)\n",
    "often10_coords"
   ]
  },
  {
   "cell_type": "code",
   "execution_count": 15,
   "metadata": {},
   "outputs": [
    {
     "data": {
      "text/html": [
       "<div style=\"width:100%;\"><div style=\"position:relative;width:100%;height:0;padding-bottom:60%;\"><span style=\"color:#565656\">Make this Notebook Trusted to load map: File -> Trust Notebook</span><iframe src=\"about:blank\" style=\"position:absolute;width:100%;height:100%;left:0;top:0;border:none !important;\" data-html=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 onload=\"this.contentDocument.open();this.contentDocument.write(atob(this.getAttribute('data-html')));this.contentDocument.close();\" allowfullscreen webkitallowfullscreen mozallowfullscreen></iframe></div></div>"
      ],
      "text/plain": [
       "<folium.folium.Map at 0x21d7bce1850>"
      ]
     },
     "execution_count": 15,
     "metadata": {},
     "output_type": "execute_result"
    }
   ],
   "source": [
    "# adjust map coords\n",
    "coord1, coord2 = utils.get_porto_coords(adjusted=False)\n",
    "coord1 += 0.07\n",
    "coord2 -= 0.02\n",
    "\n",
    "fmap = folium.Map((coord1, coord2), zoom_start=14, tiles=ftiles[0], zoom_control = False)\n",
    "# Fit to bounds\n",
    "bounds = utils.get_global_xy_bounds(often10_coords[:5])\n",
    "fmap.fit_bounds(bounds)\n",
    "\n",
    "# PLOT_POINTS = False\n",
    "for idx, lcoord in enumerate(often10_coords[:5]):\n",
    "    feature_group = folium.FeatureGroup()\n",
    "    if PLOT_LINES:\n",
    "        feature_group.add_child(folium.PolyLine(lcoord, color=colors_list[idx], weight=5))\n",
    "    if PLOT_POINTS:\n",
    "        for p in lcoord:\n",
    "            feature_group.add_child(folium.Circle(p, radius=1, color=colors_list[idx], fill=True, fill_color=colors_list[idx], fill_opacity=1))\n",
    "    fmap.add_child(feature_group)    \n",
    "\n",
    "fmap"
   ]
  },
  {
   "cell_type": "code",
   "execution_count": 9,
   "metadata": {},
   "outputs": [],
   "source": [
    "if SAVE_IMAGES:\n",
    "    utils.save_fmap_plot(fmap, os.path.join(results_path, 'fmap_often5_all'))"
   ]
  },
  {
   "cell_type": "markdown",
   "metadata": {},
   "source": [
    "## Visualize 5 longest average time routes"
   ]
  },
  {
   "cell_type": "code",
   "execution_count": 10,
   "metadata": {},
   "outputs": [
    {
     "data": {
      "text/plain": [
       "0    [(41.2349629, -8.565616), (41.2345388, -8.5658...\n",
       "1    [(41.2012399, -8.5487643), (41.2012815, -8.548...\n",
       "2    [(41.1353481, -8.5781473), (41.1352766, -8.578...\n",
       "3    [(41.1641061, -8.6224174), (41.1636862, -8.622...\n",
       "4    [(41.1498853, -8.6385542), (41.1501576, -8.637...\n",
       "5    [(41.2363728, -8.6678023), (41.2370596, -8.667...\n",
       "6    [(41.1572559, -8.6248537), (41.1573447, -8.624...\n",
       "7    [(41.1456785, -8.6072865), (41.1456651, -8.607...\n",
       "8    [(41.2322929, -8.6928995), (41.2322399, -8.692...\n",
       "9    [(41.1524873, -8.6180312), (41.1525907, -8.616...\n",
       "dtype: object"
      ]
     },
     "execution_count": 10,
     "metadata": {},
     "output_type": "execute_result"
    }
   ],
   "source": [
    "time10_coords = utils.get_lineString_coords(time10_gdf)\n",
    "time10_coords"
   ]
  },
  {
   "cell_type": "code",
   "execution_count": 32,
   "metadata": {},
   "outputs": [
    {
     "data": {
      "text/html": [
       "<div style=\"width:100%;\"><div style=\"position:relative;width:100%;height:0;padding-bottom:60%;\"><span style=\"color:#565656\">Make this Notebook Trusted to load map: File -> Trust Notebook</span><iframe src=\"about:blank\" style=\"position:absolute;width:100%;height:100%;left:0;top:0;border:none !important;\" data-html=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 onload=\"this.contentDocument.open();this.contentDocument.write(atob(this.getAttribute('data-html')));this.contentDocument.close();\" allowfullscreen webkitallowfullscreen mozallowfullscreen></iframe></div></div>"
      ],
      "text/plain": [
       "<folium.folium.Map at 0x21d7d88dc10>"
      ]
     },
     "execution_count": 32,
     "metadata": {},
     "output_type": "execute_result"
    }
   ],
   "source": [
    "fmap = folium.Map(utils.get_porto_coords(), zoom_start=13, tiles=ftiles[2], zoom_control = False)\n",
    "bounds = utils.get_global_xy_bounds(time10_coords[:5])\n",
    "fmap.fit_bounds(bounds)\n",
    "\n",
    "for idx, lcoord in enumerate(time10_coords[:5]):\n",
    "    feature_group = folium.FeatureGroup()\n",
    "    if PLOT_LINES:\n",
    "        feature_group.add_child(folium.PolyLine(lcoord, color=colors_list[idx+5], weight=5)) # +5 to skip colors\n",
    "    if PLOT_POINTS:\n",
    "        for p in lcoord:\n",
    "            feature_group.add_child(folium.Circle(p, radius=1, color=colors_list[idx+5], fill=True, fill_color=colors_list[idx], fill_opacity=1))\n",
    "    fmap.add_child(feature_group)    \n",
    "\n",
    "fmap"
   ]
  },
  {
   "cell_type": "code",
   "execution_count": 33,
   "metadata": {},
   "outputs": [],
   "source": [
    "if SAVE_IMAGES:\n",
    "    utils.save_fmap_plot(fmap, os.path.join(results_path, 'fmap_time5_all'))"
   ]
  },
  {
   "cell_type": "code",
   "execution_count": 34,
   "metadata": {},
   "outputs": [],
   "source": [
    "if SAVE_INDIVIDUAL:\n",
    "    for idx, lcoord in enumerate(time10_coords[:5]):\n",
    "        fmap = folium.Map(utils.get_porto_coords(), zoom_start=12, tiles=ftiles[0], zoom_control = False)\n",
    "        bounds = utils.get_xy_bounds(lcoord)\n",
    "        fmap.fit_bounds(bounds)\n",
    "        feature_group = folium.FeatureGroup()\n",
    "        if PLOT_LINES:\n",
    "            feature_group.add_child(folium.PolyLine(lcoord, color=colors_list[idx+5], weight=5))\n",
    "        if PLOT_POINTS:\n",
    "            for p in lcoord:\n",
    "                feature_group.add_child(folium.Circle(p, radius=1, color=colors_list[idx+5], fill=True, fill_color=colors_list[idx], fill_opacity=1))\n",
    "        fmap.add_child(feature_group)\n",
    "        utils.save_fmap_plot(fmap, os.path.join(results_path, f'fmap_time5_{idx}'))"
   ]
  },
  {
   "cell_type": "code",
   "execution_count": 31,
   "metadata": {},
   "outputs": [
    {
     "data": {
      "text/html": [
       "<div style=\"width:100%;\"><div style=\"position:relative;width:100%;height:0;padding-bottom:60%;\"><span style=\"color:#565656\">Make this Notebook Trusted to load map: File -> Trust Notebook</span><iframe src=\"about:blank\" style=\"position:absolute;width:100%;height:100%;left:0;top:0;border:none !important;\" data-html=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 onload=\"this.contentDocument.open();this.contentDocument.write(atob(this.getAttribute('data-html')));this.contentDocument.close();\" allowfullscreen webkitallowfullscreen mozallowfullscreen></iframe></div></div>"
      ],
      "text/plain": [
       "<folium.folium.Map at 0x21d7da9be50>"
      ]
     },
     "execution_count": 31,
     "metadata": {},
     "output_type": "execute_result"
    }
   ],
   "source": [
    "lcoord = time10_coords[3]\n",
    "bounds = utils.get_xy_bounds(lcoord)\n",
    "fmap = folium.Map(utils.get_porto_coords(), zoom_start=12, tiles=ftiles[0], zoom_control = False)\n",
    "fmap.fit_bounds(bounds)\n",
    "feature_group = folium.FeatureGroup()\n",
    "if PLOT_LINES:\n",
    "    feature_group.add_child(folium.PolyLine(lcoord, color=colors_list[idx+5], weight=5))\n",
    "if PLOT_POINTS:\n",
    "    for p in lcoord:\n",
    "        feature_group.add_child(folium.Circle(p, radius=1, color=colors_list[idx+5], fill=True, fill_color=colors_list[idx], fill_opacity=1))\n",
    "fmap.add_child(feature_group)\n"
   ]
  },
  {
   "cell_type": "code",
   "execution_count": null,
   "metadata": {},
   "outputs": [],
   "source": []
  },
  {
   "cell_type": "code",
   "execution_count": null,
   "metadata": {},
   "outputs": [],
   "source": []
  },
  {
   "cell_type": "code",
   "execution_count": null,
   "metadata": {},
   "outputs": [],
   "source": []
  }
 ],
 "metadata": {
  "kernelspec": {
   "display_name": "Python 3",
   "language": "python",
   "name": "python3"
  },
  "language_info": {
   "codemirror_mode": {
    "name": "ipython",
    "version": 3
   },
   "file_extension": ".py",
   "mimetype": "text/x-python",
   "name": "python",
   "nbconvert_exporter": "python",
   "pygments_lexer": "ipython3",
   "version": "3.9.0"
  }
 },
 "nbformat": 4,
 "nbformat_minor": 4
}
